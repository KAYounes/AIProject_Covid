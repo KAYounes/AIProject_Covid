{
 "cells": [
  {
   "cell_type": "markdown",
   "id": "8e8dca73",
   "metadata": {},
   "source": [
    "# KNN Classifier"
   ]
  },
  {
   "cell_type": "markdown",
   "id": "41514479",
   "metadata": {},
   "source": [
    "## Importing and Loading data"
   ]
  },
  {
   "cell_type": "code",
   "execution_count": 125,
   "id": "7878b283",
   "metadata": {},
   "outputs": [],
   "source": [
    "from sklearn.neighbors import KNeighborsClassifier\n",
    "from sklearn.model_selection import train_test_split\n",
    "from sklearn.metrics import accuracy_score\n",
    "from sklearn.metrics import precision_recall_fscore_support\n",
    "from sklearn.metrics import confusion_matrix\n",
    "from sklearn.metrics import classification_report\n",
    "from sklearn.metrics import precision_recall_fscore_support\n",
    "from sklearn.metrics import ConfusionMatrixDisplay\n",
    "from sklearn.metrics import roc_curve\n",
    "from sklearn.metrics import RocCurveDisplay\n",
    "\n",
    "import pandas as pd\n",
    "import numpy as np\n",
    "import matplotlib.pyplot as plt\n",
    "\n",
    "import time\n",
    "\n",
    "base_path = r'\\Users\\KAYEG\\Documents\\ASU\\FALL - 21 - Term 7\\Machine Learning\\Project\\Project\\\\'\n",
    "datas_path = r'\\Users\\KAYEG\\Documents\\ASU\\FALL - 21 - Term 7\\Machine Learning\\Project\\Project\\datas\\\\'"
   ]
  },
  {
   "cell_type": "markdown",
   "id": "86f2473d",
   "metadata": {},
   "source": [
    "---"
   ]
  },
  {
   "cell_type": "markdown",
   "id": "36770efc",
   "metadata": {},
   "source": [
    "# Utility Functions"
   ]
  },
  {
   "cell_type": "markdown",
   "id": "0fcd1e1d",
   "metadata": {},
   "source": [
    "## Display Confusion Matrix"
   ]
  },
  {
   "cell_type": "code",
   "execution_count": 60,
   "id": "6d7636c8",
   "metadata": {},
   "outputs": [],
   "source": [
    "def display_conf_mat(name, tn, fp, fn, tp):\n",
    "    print(f'{name} confusion matrix: \\n T.neg {tn} \\t F.pos {fp} \\n F.neg {fn} \\t T.pos {tp}\\n')"
   ]
  },
  {
   "cell_type": "markdown",
   "id": "e6019127",
   "metadata": {},
   "source": [
    "---"
   ]
  },
  {
   "cell_type": "code",
   "execution_count": 2,
   "id": "495e8008",
   "metadata": {
    "scrolled": true
   },
   "outputs": [
    {
     "data": {
      "text/html": [
       "<div>\n",
       "<style scoped>\n",
       "    .dataframe tbody tr th:only-of-type {\n",
       "        vertical-align: middle;\n",
       "    }\n",
       "\n",
       "    .dataframe tbody tr th {\n",
       "        vertical-align: top;\n",
       "    }\n",
       "\n",
       "    .dataframe thead th {\n",
       "        text-align: right;\n",
       "    }\n",
       "</style>\n",
       "<table border=\"1\" class=\"dataframe\">\n",
       "  <thead>\n",
       "    <tr style=\"text-align: right;\">\n",
       "      <th></th>\n",
       "      <th>location</th>\n",
       "      <th>country</th>\n",
       "      <th>gender</th>\n",
       "      <th>age</th>\n",
       "      <th>vis_wuhan</th>\n",
       "      <th>from_wuhan</th>\n",
       "      <th>symptom1</th>\n",
       "      <th>symptom2</th>\n",
       "      <th>symptom3</th>\n",
       "      <th>symptom4</th>\n",
       "      <th>symptom5</th>\n",
       "      <th>symptom6</th>\n",
       "      <th>diff_sym_hos</th>\n",
       "      <th>result</th>\n",
       "    </tr>\n",
       "  </thead>\n",
       "  <tbody>\n",
       "    <tr>\n",
       "      <th>0</th>\n",
       "      <td>104</td>\n",
       "      <td>8</td>\n",
       "      <td>1</td>\n",
       "      <td>66.0</td>\n",
       "      <td>1</td>\n",
       "      <td>0</td>\n",
       "      <td>14</td>\n",
       "      <td>31</td>\n",
       "      <td>19</td>\n",
       "      <td>12</td>\n",
       "      <td>3</td>\n",
       "      <td>1</td>\n",
       "      <td>8</td>\n",
       "      <td>1</td>\n",
       "    </tr>\n",
       "    <tr>\n",
       "      <th>1</th>\n",
       "      <td>101</td>\n",
       "      <td>8</td>\n",
       "      <td>0</td>\n",
       "      <td>56.0</td>\n",
       "      <td>0</td>\n",
       "      <td>1</td>\n",
       "      <td>14</td>\n",
       "      <td>31</td>\n",
       "      <td>19</td>\n",
       "      <td>12</td>\n",
       "      <td>3</td>\n",
       "      <td>1</td>\n",
       "      <td>0</td>\n",
       "      <td>0</td>\n",
       "    </tr>\n",
       "    <tr>\n",
       "      <th>2</th>\n",
       "      <td>137</td>\n",
       "      <td>8</td>\n",
       "      <td>1</td>\n",
       "      <td>46.0</td>\n",
       "      <td>0</td>\n",
       "      <td>1</td>\n",
       "      <td>14</td>\n",
       "      <td>31</td>\n",
       "      <td>19</td>\n",
       "      <td>12</td>\n",
       "      <td>3</td>\n",
       "      <td>1</td>\n",
       "      <td>13</td>\n",
       "      <td>0</td>\n",
       "    </tr>\n",
       "    <tr>\n",
       "      <th>3</th>\n",
       "      <td>116</td>\n",
       "      <td>8</td>\n",
       "      <td>0</td>\n",
       "      <td>60.0</td>\n",
       "      <td>1</td>\n",
       "      <td>0</td>\n",
       "      <td>14</td>\n",
       "      <td>31</td>\n",
       "      <td>19</td>\n",
       "      <td>12</td>\n",
       "      <td>3</td>\n",
       "      <td>1</td>\n",
       "      <td>0</td>\n",
       "      <td>0</td>\n",
       "    </tr>\n",
       "    <tr>\n",
       "      <th>4</th>\n",
       "      <td>116</td>\n",
       "      <td>8</td>\n",
       "      <td>1</td>\n",
       "      <td>58.0</td>\n",
       "      <td>0</td>\n",
       "      <td>0</td>\n",
       "      <td>14</td>\n",
       "      <td>31</td>\n",
       "      <td>19</td>\n",
       "      <td>12</td>\n",
       "      <td>3</td>\n",
       "      <td>1</td>\n",
       "      <td>0</td>\n",
       "      <td>0</td>\n",
       "    </tr>\n",
       "  </tbody>\n",
       "</table>\n",
       "</div>"
      ],
      "text/plain": [
       "   location  country  gender   age  vis_wuhan  from_wuhan  symptom1  symptom2  \\\n",
       "0       104        8       1  66.0          1           0        14        31   \n",
       "1       101        8       0  56.0          0           1        14        31   \n",
       "2       137        8       1  46.0          0           1        14        31   \n",
       "3       116        8       0  60.0          1           0        14        31   \n",
       "4       116        8       1  58.0          0           0        14        31   \n",
       "\n",
       "   symptom3  symptom4  symptom5  symptom6  diff_sym_hos  result  \n",
       "0        19        12         3         1             8       1  \n",
       "1        19        12         3         1             0       0  \n",
       "2        19        12         3         1            13       0  \n",
       "3        19        12         3         1             0       0  \n",
       "4        19        12         3         1             0       0  "
      ]
     },
     "execution_count": 2,
     "metadata": {},
     "output_type": "execute_result"
    }
   ],
   "source": [
    "original_df = pd.read_csv(datas_path + r'data.csv', index_col=0)\n",
    "original_df.head()"
   ]
  },
  {
   "cell_type": "markdown",
   "id": "3d726d5e",
   "metadata": {},
   "source": [
    "## Loading Preprocessed Datasets"
   ]
  },
  {
   "cell_type": "code",
   "execution_count": 42,
   "id": "e97637a4",
   "metadata": {},
   "outputs": [],
   "source": [
    "z_score_location_country = pd.read_csv(datas_path + r'z_score_location_country.csv')\n",
    "min_max_location_country = pd.read_csv(datas_path + r'min_max_location_country.csv')\n",
    "one_hot_location_country = pd.read_csv(datas_path + r'one_hot_location_country.csv')\n",
    "dfs = {\n",
    "    'Original Dataframe': {'df': original_df, 'accuracy': [], 'max_acc': -1, 'k': -1},\n",
    "    'Z Score Location and Country': {'df': z_score_location_country, 'accuracy': [], 'max_acc': -1, 'k': -1},\n",
    "    'Min-Max Location and Country': {'df': min_max_location_country, 'accuracy': [], 'max_acc': -1, 'k': -1},\n",
    "    'one_hot_location_country': {'df': one_hot_location_country, 'accuracy': [], 'max_acc': -1, 'k': -1}\n",
    "}"
   ]
  },
  {
   "cell_type": "code",
   "execution_count": 43,
   "id": "c9544112",
   "metadata": {
    "scrolled": true
   },
   "outputs": [],
   "source": [
    "for name in dfs.keys():\n",
    "#     print(name)\n",
    "    df = dfs[name]['df']\n",
    "    \n",
    "    # Splitting features from labels\n",
    "    X = df.iloc[:, :-1].values # features matrix\n",
    "    y = df.iloc[:, -1].values # label vector\n",
    "    \n",
    "    # 80% - 20% split is applied\n",
    "    x_train, x_test, y_train, y_test = train_test_split(X, y, test_size=0.2, random_state=2)\n",
    "    \n",
    "    # KNN Model\n",
    "    for k in range(1, 20, 2):\n",
    "        knn_class = KNeighborsClassifier(n_neighbors=k) # KNN model\n",
    "        knn_class.fit(x_train, y_train) #\n",
    "        y_predict = knn_class.predict(x_test)\n",
    "                \n",
    "        sk_acc_score = accuracy_score(y_test, y_predict) * 100\n",
    "        dfs[name]['accuracy'].append(sk_acc_score)\n",
    "#         print(name, ' accuracy is with k = ', k, ' is ', sk_acc_score)\n",
    "#     print('\\n' + '-' * 10 + '\\n')"
   ]
  },
  {
   "cell_type": "code",
   "execution_count": 129,
   "id": "b9e0ec3a",
   "metadata": {
    "scrolled": true
   },
   "outputs": [
    {
     "name": "stdout",
     "output_type": "stream",
     "text": [
      "Original Dataframe 95.95375722543352 3 \n",
      "\n",
      "\n",
      "Z Score Location and Country 95.37572254335261 1 \n",
      "\n",
      "\n",
      "Min-Max Location and Country 94.79768786127167 5 \n",
      "\n",
      "\n",
      "one_hot_location_country 95.37572254335261 3 \n",
      "\n",
      "\n",
      "Dataframe with best accuracy is \"Original Dataframe\" with k = 3\n"
     ]
    }
   ],
   "source": [
    "best_acc = -1\n",
    "best_acc_df = '-'\n",
    "for name in dfs.keys():\n",
    "\n",
    "    \n",
    "    dfs[name]['max_acc'] = max(dfs[name]['accuracy'])\n",
    "    dfs[name]['k'] = 1 + dfs[name]['accuracy'].index(dfs[name]['max_acc'])*2\n",
    "    \n",
    "    if (dfs[name]['max_acc'] > best_acc):\n",
    "        best_acc = dfs[name]['max_acc']\n",
    "        best_acc_df = name\n",
    "        \n",
    "    print(name, dfs[name]['max_acc'], dfs[name]['k'], '\\n\\n')\n",
    "\n",
    "\n",
    "df = dfs[best_acc_df]['df']\n",
    "opt_k = dfs[best_acc_df]['k']\n",
    "print('Dataframe with best accuracy is \"', best_acc_df, '\" with k = ', opt_k, sep='')"
   ]
  },
  {
   "cell_type": "code",
   "execution_count": 127,
   "id": "2f11b2a8",
   "metadata": {
    "scrolled": false
   },
   "outputs": [
    {
     "data": {
      "image/png": "[encoded data removed]",
      "text/plain": [
       "<Figure size 432x288 with 2 Axes>"
      ]
     },
     "metadata": {
      "needs_background": "light"
     },
     "output_type": "display_data"
    },
    {
     "data": {
      "image/png": "[encoded data removed]",
      "text/plain": [
       "<Figure size 432x288 with 2 Axes>"
      ]
     },
     "metadata": {
      "needs_background": "light"
     },
     "output_type": "display_data"
    },
    {
     "data": {
      "image/png": "[encoded data removed]",
      "text/plain": [
       "<Figure size 432x288 with 2 Axes>"
      ]
     },
     "metadata": {
      "needs_background": "light"
     },
     "output_type": "display_data"
    },
    {
     "data": {
      "image/png": "[encoded data removed]",
      "text/plain": [
       "<Figure size 432x288 with 2 Axes>"
      ]
     },
     "metadata": {
      "needs_background": "light"
     },
     "output_type": "display_data"
    }
   ],
   "source": [
    "for name in dfs.keys():\n",
    "    df = dfs[name]['df']\n",
    "    \n",
    "    X = df.iloc[:, :-1].values # features matrix\n",
    "    y = df.iloc[:, -1].values # label vector\n",
    "    \n",
    "    # 70% - 30% split is applied\n",
    "    x_train, x_test, y_train, y_test = train_test_split(X, y, test_size=0.2, random_state=7)\n",
    "    \n",
    "    knn_class = KNeighborsClassifier(n_neighbors=dfs[name]['k']) # KNN model\n",
    "    knn_class.fit(x_train, y_train)\n",
    "    y_predict = knn_class.predict(x_test)\n",
    "    \n",
    "    conf_mat = confusion_matrix(y_test, y_predict)\n",
    "    tn, fp, fn, tp = conf_mat.ravel()\n",
    "    \n",
    "#     display_conf_mat(name, tn, fp, fn, tp)\n",
    "    cm_display = ConfusionMatrixDisplay(conf_mat).plot()\n",
    "    plt.title(name)"
   ]
  },
  {
   "cell_type": "markdown",
   "id": "002469d7",
   "metadata": {},
   "source": [
    "---"
   ]
  },
  {
   "cell_type": "markdown",
   "id": "bb07cc5e",
   "metadata": {},
   "source": [
    "# Implementing KNN"
   ]
  },
  {
   "cell_type": "markdown",
   "id": "6700f529",
   "metadata": {},
   "source": [
    "## Concept\n",
    "\n",
    "- Calculate distance from point to point --> distance between target and point\n",
    "    - target = [x, y, z]\n",
    "    - points = [a, b, c]\n",
    "    \n",
    "    - squared = [(x - a)^2, (y - b)^2, (z - c)^2]\n",
    "    - sum_arr = sum(squared) == (x - a)^2 + (y - b)^2 + (z - c)^2\n",
    "    - distance = sqrt(sum_arr)\n",
    "    \n",
    "    \n",
    "- Repeat with all features --> array of distances\n",
    "\n",
    "\n",
    "- Sort ascendingly --> sorted array of distances\n",
    "\n",
    "\n",
    "- Take first K distances --> array of K distances\n",
    "\n",
    "\n",
    "- Predict based on majority --> prediction "
   ]
  },
  {
   "cell_type": "code",
   "execution_count": 40,
   "id": "190fb24e",
   "metadata": {},
   "outputs": [],
   "source": [
    "class KNN_Classifier:\n",
    "    \n",
    "    def __init__(self, k, power):\n",
    "        self.k = k\n",
    "        self.power = power\n",
    "    \n",
    "    \n",
    "    def save_data(self, features, labels):\n",
    "        self.features = np.array(features)\n",
    "        self.labels = np.array(labels)\n",
    "        \n",
    "    \n",
    "    def get_distances(self, target):\n",
    "        target = np.array(target)\n",
    "        distances = np.sum((self.features - target)**2, axis = 1)\n",
    "\n",
    "        return np.array(distances)\n",
    "            \n",
    "    \n",
    "    def majority_vote(self, distances):\n",
    "        k_nearest_labels = self.labels[np.argsort(distances)[:self.k]]\n",
    "        unique_labels, frequency = np.unique(k_nearest_labels, return_counts=True)\n",
    "        max_frequency = np.max(frequency)\n",
    "        mode = []\n",
    "        \n",
    "        for i in range(len(frequency)):\n",
    "            if (frequency[i] == max_frequency):\n",
    "                mode.append(unique_labels[i])\n",
    "        \n",
    "        return mode[0]\n",
    "\n",
    "    \n",
    "    def predict(self, targets):\n",
    "        targets = np.array(targets)\n",
    "        predictions = []\n",
    "        \n",
    "        for i, target in enumerate(targets):\n",
    "            distances = self.get_distances(target)\n",
    "            prediction = self.majority_vote(distances)\n",
    "            predictions.append(prediction)\n",
    "        \n",
    "        return np.array(predictions)\n",
    "        \n",
    "        "
   ]
  },
  {
   "cell_type": "markdown",
   "id": "3be03e86",
   "metadata": {},
   "source": [
    "# Measuring Performance"
   ]
  },
  {
   "cell_type": "code",
   "execution_count": 130,
   "id": "9763b8be",
   "metadata": {
    "scrolled": true
   },
   "outputs": [
    {
     "data": {
      "text/html": [
       "<div>\n",
       "<style scoped>\n",
       "    .dataframe tbody tr th:only-of-type {\n",
       "        vertical-align: middle;\n",
       "    }\n",
       "\n",
       "    .dataframe tbody tr th {\n",
       "        vertical-align: top;\n",
       "    }\n",
       "\n",
       "    .dataframe thead th {\n",
       "        text-align: right;\n",
       "    }\n",
       "</style>\n",
       "<table border=\"1\" class=\"dataframe\">\n",
       "  <thead>\n",
       "    <tr style=\"text-align: right;\">\n",
       "      <th></th>\n",
       "      <th>location</th>\n",
       "      <th>country</th>\n",
       "      <th>gender</th>\n",
       "      <th>age</th>\n",
       "      <th>vis_wuhan</th>\n",
       "      <th>from_wuhan</th>\n",
       "      <th>symptom1</th>\n",
       "      <th>symptom2</th>\n",
       "      <th>symptom3</th>\n",
       "      <th>symptom4</th>\n",
       "      <th>symptom5</th>\n",
       "      <th>symptom6</th>\n",
       "      <th>diff_sym_hos</th>\n",
       "      <th>result</th>\n",
       "    </tr>\n",
       "  </thead>\n",
       "  <tbody>\n",
       "    <tr>\n",
       "      <th>0</th>\n",
       "      <td>104</td>\n",
       "      <td>8</td>\n",
       "      <td>1</td>\n",
       "      <td>66.0</td>\n",
       "      <td>1</td>\n",
       "      <td>0</td>\n",
       "      <td>14</td>\n",
       "      <td>31</td>\n",
       "      <td>19</td>\n",
       "      <td>12</td>\n",
       "      <td>3</td>\n",
       "      <td>1</td>\n",
       "      <td>8</td>\n",
       "      <td>1</td>\n",
       "    </tr>\n",
       "    <tr>\n",
       "      <th>1</th>\n",
       "      <td>101</td>\n",
       "      <td>8</td>\n",
       "      <td>0</td>\n",
       "      <td>56.0</td>\n",
       "      <td>0</td>\n",
       "      <td>1</td>\n",
       "      <td>14</td>\n",
       "      <td>31</td>\n",
       "      <td>19</td>\n",
       "      <td>12</td>\n",
       "      <td>3</td>\n",
       "      <td>1</td>\n",
       "      <td>0</td>\n",
       "      <td>0</td>\n",
       "    </tr>\n",
       "    <tr>\n",
       "      <th>2</th>\n",
       "      <td>137</td>\n",
       "      <td>8</td>\n",
       "      <td>1</td>\n",
       "      <td>46.0</td>\n",
       "      <td>0</td>\n",
       "      <td>1</td>\n",
       "      <td>14</td>\n",
       "      <td>31</td>\n",
       "      <td>19</td>\n",
       "      <td>12</td>\n",
       "      <td>3</td>\n",
       "      <td>1</td>\n",
       "      <td>13</td>\n",
       "      <td>0</td>\n",
       "    </tr>\n",
       "    <tr>\n",
       "      <th>3</th>\n",
       "      <td>116</td>\n",
       "      <td>8</td>\n",
       "      <td>0</td>\n",
       "      <td>60.0</td>\n",
       "      <td>1</td>\n",
       "      <td>0</td>\n",
       "      <td>14</td>\n",
       "      <td>31</td>\n",
       "      <td>19</td>\n",
       "      <td>12</td>\n",
       "      <td>3</td>\n",
       "      <td>1</td>\n",
       "      <td>0</td>\n",
       "      <td>0</td>\n",
       "    </tr>\n",
       "    <tr>\n",
       "      <th>4</th>\n",
       "      <td>116</td>\n",
       "      <td>8</td>\n",
       "      <td>1</td>\n",
       "      <td>58.0</td>\n",
       "      <td>0</td>\n",
       "      <td>0</td>\n",
       "      <td>14</td>\n",
       "      <td>31</td>\n",
       "      <td>19</td>\n",
       "      <td>12</td>\n",
       "      <td>3</td>\n",
       "      <td>1</td>\n",
       "      <td>0</td>\n",
       "      <td>0</td>\n",
       "    </tr>\n",
       "  </tbody>\n",
       "</table>\n",
       "</div>"
      ],
      "text/plain": [
       "   location  country  gender   age  vis_wuhan  from_wuhan  symptom1  symptom2  \\\n",
       "0       104        8       1  66.0          1           0        14        31   \n",
       "1       101        8       0  56.0          0           1        14        31   \n",
       "2       137        8       1  46.0          0           1        14        31   \n",
       "3       116        8       0  60.0          1           0        14        31   \n",
       "4       116        8       1  58.0          0           0        14        31   \n",
       "\n",
       "   symptom3  symptom4  symptom5  symptom6  diff_sym_hos  result  \n",
       "0        19        12         3         1             8       1  \n",
       "1        19        12         3         1             0       0  \n",
       "2        19        12         3         1            13       0  \n",
       "3        19        12         3         1             0       0  \n",
       "4        19        12         3         1             0       0  "
      ]
     },
     "execution_count": 130,
     "metadata": {},
     "output_type": "execute_result"
    }
   ],
   "source": [
    "#current data - Original Data Set\n",
    "df.head()"
   ]
  },
  {
   "cell_type": "code",
   "execution_count": 50,
   "id": "b1317e9a",
   "metadata": {},
   "outputs": [],
   "source": [
    "# Splitting features from labels\n",
    "X = df.iloc[:, :-1].values # features matrix\n",
    "y = df.iloc[:, -1].values # label vector\n",
    "\n",
    "# 80% - 20% split is applied\n",
    "x_train, x_test, y_train, y_test = train_test_split(X, y, test_size=0.2, random_state=2)"
   ]
  },
  {
   "cell_type": "code",
   "execution_count": 140,
   "id": "6a6b2ca0",
   "metadata": {},
   "outputs": [],
   "source": [
    "# SKLearn KNN Model\n",
    "start = time.time()\n",
    "\n",
    "sk_knn = KNeighborsClassifier(n_neighbors=opt_k) # KNN model with K = 9\n",
    "sk_knn.fit(x_train, y_train) #\n",
    "sk_y_predict = knn_class.predict(x_test)\n",
    "\n",
    "sk_acc_score = accuracy_score(y_test, sk_y_predict) * 100\n",
    "sk_conf_mat = confusion_matrix(y_test, sk_y_predict)\n",
    "sk_class_report = classification_report(y_test, sk_y_predict, target_names=['Negative Class (survived)', 'Positive Class (died)'])\n",
    "\n",
    "end = time.time()\n",
    "sk_execution_time = end - start"
   ]
  },
  {
   "cell_type": "code",
   "execution_count": 147,
   "id": "e5fb3eb9",
   "metadata": {},
   "outputs": [],
   "source": [
    "# Implemented Model\n",
    "start = time.time()\n",
    "\n",
    "our_knn = KNN_Classifier(opt_k, 2)\n",
    "our_knn.save_data(x_train, y_train)\n",
    "our_y_predict = knn.predict(x_test)\n",
    "\n",
    "our_acc_score = accuracy_score(y_test, our_y_predict) * 100\n",
    "our_conf_mat = confusion_matrix(y_test, our_y_predict)\n",
    "our_class_report = classification_report(y_test, sk_y_predict, target_names=['Negative Class (survived)', 'Positive Class (died)'])\n",
    "\n",
    "end = time.time()\n",
    "our_execution_time = end - start"
   ]
  },
  {
   "cell_type": "code",
   "execution_count": 137,
   "id": "c84899ed",
   "metadata": {},
   "outputs": [
    {
     "name": "stdout",
     "output_type": "stream",
     "text": [
      "SKLearn Model Performance Metrics \n",
      "\n",
      "SKLearn Execution Time 0.012994527816772461\n",
      "SKLearn Model Accuracy:  95.37572254335261 \n",
      "\n",
      "\n",
      "                            precision    recall  f1-score   support\n",
      "\n",
      "Negative Class (survived)       0.96      0.99      0.97       155\n",
      "    Positive Class (died)       0.86      0.67      0.75        18\n",
      "\n",
      "                 accuracy                           0.95       173\n",
      "                macro avg       0.91      0.83      0.86       173\n",
      "             weighted avg       0.95      0.95      0.95       173\n",
      "\n"
     ]
    },
    {
     "data": {
      "text/plain": [
       "Text(0.5, 1.0, 'SKLearn Model Confustion Matrix')"
      ]
     },
     "execution_count": 137,
     "metadata": {},
     "output_type": "execute_result"
    },
    {
     "data": {
      "image/png": "[encoded data removed]",
      "text/plain": [
       "<Figure size 432x288 with 2 Axes>"
      ]
     },
     "metadata": {
      "needs_background": "light"
     },
     "output_type": "display_data"
    }
   ],
   "source": [
    "print('SKLearn Model Performance Metrics', '\\n')\n",
    "print('SKLearn Execution Time', sk_execution_time)\n",
    "print('SKLearn Model Accuracy: ', sk_acc_score, '\\n')\n",
    "# display_conf_mat('SkLearn Model', sk_tn, sk_fp, sk_fn, sk_tp)\n",
    "print('\\n', sk_class_report)\n",
    "ConfusionMatrixDisplay(sk_conf_mat).plot()\n",
    "plt.title(\"SKLearn Model Confustion Matrix\")"
   ]
  },
  {
   "cell_type": "code",
   "execution_count": 139,
   "id": "11e75a38",
   "metadata": {},
   "outputs": [
    {
     "name": "stdout",
     "output_type": "stream",
     "text": [
      "Implemented Model Performance Metrics \n",
      "\n",
      "Implemented Model Execution Time 0.2078850269317627 \n",
      "\n",
      "Implemented Model Accuracy:  95.37572254335261 \n",
      "\n",
      "\n",
      "                            precision    recall  f1-score   support\n",
      "\n",
      "Negative Class (survived)       0.96      0.99      0.97       155\n",
      "    Positive Class (died)       0.86      0.67      0.75        18\n",
      "\n",
      "                 accuracy                           0.95       173\n",
      "                macro avg       0.91      0.83      0.86       173\n",
      "             weighted avg       0.95      0.95      0.95       173\n",
      "\n"
     ]
    },
    {
     "data": {
      "image/png": "[encoded data removed]",
      "text/plain": [
       "<Figure size 432x288 with 2 Axes>"
      ]
     },
     "metadata": {
      "needs_background": "light"
     },
     "output_type": "display_data"
    }
   ],
   "source": [
    "print('Implemented Model Performance Metrics', '\\n')\n",
    "print('Implemented Model Execution Time', our_execution_time, '\\n')\n",
    "print('Implemented Model Accuracy: ', our_acc_score, '\\n')\n",
    "# display_conf_mat('Implemented Model', our_tn, our_fp, our_fn, our_tp)\n",
    "print('\\n', our_class_report)\n",
    "ConfusionMatrixDisplay(our_conf_mat).plot();\n",
    "plt.title(\"Implemented Model Confustion Matrix\");"
   ]
  },
  {
   "cell_type": "code",
   "execution_count": 116,
   "id": "9ff214f2",
   "metadata": {},
   "outputs": [
    {
     "name": "stdout",
     "output_type": "stream",
     "text": [
      "Comparison \n",
      "\n",
      "SKLeanr Model Accuracy - Implemented Model Accuracy =  0.0\n",
      "Implemented Model Execution Time - SKLeanr Model Execution Time =  0.20288419723510742\n",
      "(Implemented Model Execution Time - SKLeanr Model Execution Time) / Implemented Model Execution Time  =  0.9398239979501769\n"
     ]
    }
   ],
   "source": [
    "print('Comparison', '\\n')\n",
    "print('SKLeanr Model Accuracy - Implemented Model Accuracy = ', sk_acc_score - our_acc_score)\n",
    "print('Implemented Model Execution Time - SKLeanr Model Execution Time = ', our_execution_time - sk_execution_time)\n",
    "print('(Implemented Model Execution Time - SKLeanr Model Execution Time) / Implemented Model Execution Time  = ', (our_execution_time - sk_execution_time) / our_execution_time )"
   ]
  },
  {
   "cell_type": "markdown",
   "id": "9a39166a",
   "metadata": {},
   "source": [
    "# ROC/AUC "
   ]
  },
  {
   "cell_type": "code",
   "execution_count": 168,
   "id": "934df9a0",
   "metadata": {
    "scrolled": false
   },
   "outputs": [
    {
     "data": {
      "image/png": "[encoded data removed]",
      "text/plain": [
       "<Figure size 432x288 with 1 Axes>"
      ]
     },
     "metadata": {
      "needs_background": "light"
     },
     "output_type": "display_data"
    },
    {
     "data": {
      "image/png": "[encoded data removed]",
      "text/plain": [
       "<Figure size 432x288 with 1 Axes>"
      ]
     },
     "metadata": {
      "needs_background": "light"
     },
     "output_type": "display_data"
    }
   ],
   "source": [
    "RocCurveDisplay.from_predictions(y_test, sk_y_predict, name='SKLearn Model')\n",
    "plt.title('SKLearn KNN Model')\n",
    "\n",
    "RocCurveDisplay.from_predictions(y_test, our_y_predict, name='Implemented Model')\n",
    "plt.title('Implemented KNN Model');\n"
   ]
  },
  {
   "cell_type": "code",
   "execution_count": null,
   "id": "d55a12c4",
   "metadata": {},
   "outputs": [],
   "source": [
    "\n",
    "\n",
    "\n",
    "\n",
    "\n",
    "\n",
    "\n",
    "\n",
    "\n",
    "\n",
    "\n",
    "\n",
    "\n",
    "\n",
    "\n",
    "\n",
    "\n",
    "\n",
    "\n",
    "\n",
    "\n",
    "\n"
   ]
  },
  {
   "cell_type": "markdown",
   "id": "9c1a1680",
   "metadata": {},
   "source": [
    "# Trash Code"
   ]
  },
  {
   "cell_type": "code",
   "execution_count": 54,
   "id": "1a53437b",
   "metadata": {},
   "outputs": [
    {
     "name": "stdout",
     "output_type": "stream",
     "text": [
      "Execution time 0.4047667980194092\n"
     ]
    }
   ],
   "source": [
    "acc = []\n",
    "maxx = 0\n",
    "max_k = -1\n",
    "start = time.time()\n",
    "for k in range(1, 100, 2):\n",
    "    knn_class = KNeighborsClassifier(n_neighbors=k)\n",
    "    knn_class.fit(x_train, y_train)\n",
    "    y_predict = knn_class.predict(x_test)\n",
    "    \n",
    "    sk_acc_score = accuracy_score(y_test, y_predict) * 100\n",
    "    acc.append(sk_acc_score)\n",
    "    if(sk_acc_score > maxx):\n",
    "        maxx = sk_acc_score\n",
    "        max_k = k\n",
    "end = time.time()\n",
    "print(f\"Execution time {end - start}\")"
   ]
  },
  {
   "cell_type": "code",
   "execution_count": 55,
   "id": "cdc597cf",
   "metadata": {
    "scrolled": true
   },
   "outputs": [
    {
     "data": {
      "text/plain": [
       "3"
      ]
     },
     "execution_count": 55,
     "metadata": {},
     "output_type": "execute_result"
    }
   ],
   "source": [
    "max_k"
   ]
  },
  {
   "cell_type": "code",
   "execution_count": 56,
   "id": "1e0a51df",
   "metadata": {},
   "outputs": [
    {
     "name": "stdout",
     "output_type": "stream",
     "text": [
      "Execution time 0.8753373622894287\n"
     ]
    }
   ],
   "source": [
    "acc = []\n",
    "maxx = 0\n",
    "max_k = -1\n",
    "\n",
    "start = time.time()\n",
    "\n",
    "for k in range(1, 100, 2):\n",
    "    knn = KNN_Classifier(k, 2)\n",
    "    knn.save_data(x_train, y_train)\n",
    "    my_predictions = knn.predict(x_test)\n",
    "    my_acc_score = accuracy_score(y_test, my_predictions) * 100\n",
    "    acc.append(my_acc_score)\n",
    "    if(my_acc_score > maxx):\n",
    "        maxx = my_acc_score\n",
    "        max_k = k\n",
    "\n",
    "end = time.time()\n",
    "print(f\"Execution time {end - start}\")"
   ]
  },
  {
   "cell_type": "code",
   "execution_count": 57,
   "id": "ba239acd",
   "metadata": {
    "scrolled": true
   },
   "outputs": [
    {
     "data": {
      "text/plain": [
       "3"
      ]
     },
     "execution_count": 57,
     "metadata": {},
     "output_type": "execute_result"
    }
   ],
   "source": [
    "max_k"
   ]
  },
  {
   "cell_type": "markdown",
   "id": "a743432c",
   "metadata": {},
   "source": [
    "# Finding Prerocessing Technique that Yields the Highest Accuracy"
   ]
  },
  {
   "cell_type": "code",
   "execution_count": 19,
   "id": "4cc9c853",
   "metadata": {},
   "outputs": [
    {
     "name": "stdout",
     "output_type": "stream",
     "text": [
      "Original Dataframe\n"
     ]
    },
    {
     "ename": "AttributeError",
     "evalue": "'dict' object has no attribute 'iloc'",
     "output_type": "error",
     "traceback": [
      "\u001b[1;31m---------------------------------------------------------------------------\u001b[0m",
      "\u001b[1;31mAttributeError\u001b[0m                            Traceback (most recent call last)",
      "\u001b[1;32m<ipython-input-19-c8fb4e2f8786>\u001b[0m in \u001b[0;36m<module>\u001b[1;34m\u001b[0m\n\u001b[0;32m      3\u001b[0m \u001b[1;33m\u001b[0m\u001b[0m\n\u001b[0;32m      4\u001b[0m     \u001b[1;31m# Splitting features from labels\u001b[0m\u001b[1;33m\u001b[0m\u001b[1;33m\u001b[0m\u001b[1;33m\u001b[0m\u001b[0m\n\u001b[1;32m----> 5\u001b[1;33m     \u001b[0mX\u001b[0m \u001b[1;33m=\u001b[0m \u001b[0mdf\u001b[0m\u001b[1;33m.\u001b[0m\u001b[0miloc\u001b[0m\u001b[1;33m[\u001b[0m\u001b[1;33m:\u001b[0m\u001b[1;33m,\u001b[0m \u001b[1;33m:\u001b[0m\u001b[1;33m-\u001b[0m\u001b[1;36m1\u001b[0m\u001b[1;33m]\u001b[0m\u001b[1;33m.\u001b[0m\u001b[0mvalues\u001b[0m \u001b[1;31m# features matrix\u001b[0m\u001b[1;33m\u001b[0m\u001b[1;33m\u001b[0m\u001b[0m\n\u001b[0m\u001b[0;32m      6\u001b[0m     \u001b[0my\u001b[0m \u001b[1;33m=\u001b[0m \u001b[0mdf\u001b[0m\u001b[1;33m.\u001b[0m\u001b[0miloc\u001b[0m\u001b[1;33m[\u001b[0m\u001b[1;33m:\u001b[0m\u001b[1;33m,\u001b[0m \u001b[1;33m-\u001b[0m\u001b[1;36m1\u001b[0m\u001b[1;33m]\u001b[0m\u001b[1;33m.\u001b[0m\u001b[0mvalues\u001b[0m \u001b[1;31m# label vector\u001b[0m\u001b[1;33m\u001b[0m\u001b[1;33m\u001b[0m\u001b[0m\n\u001b[0;32m      7\u001b[0m \u001b[1;33m\u001b[0m\u001b[0m\n",
      "\u001b[1;31mAttributeError\u001b[0m: 'dict' object has no attribute 'iloc'"
     ]
    }
   ],
   "source": [
    "for name, df in dfs.items():\n",
    "    print(name)\n",
    "    \n",
    "    # Splitting features from labels\n",
    "    X = df.iloc[:, :-1].values # features matrix\n",
    "    y = df.iloc[:, -1].values # label vector\n",
    "    \n",
    "    # 70% - 30% split is applied\n",
    "    x_train, x_test, y_train, y_test = train_test_split(X, y, test_size=0.23, random_state=7)\n",
    "    \n",
    "    # KNN Model\n",
    "    for k in range(1, 20, 2):\n",
    "        knn_class = KNeighborsClassifier(n_neighbors=k) # KNN model with K = 9\n",
    "        knn_class.fit(x_train, y_train) #\n",
    "        y_predict = knn_class.predict(x_test)\n",
    "\n",
    "        sk_acc_score = accuracy_score(y_test, y_predict) * 100\n",
    "        print(name, ' accuracy is with k = ', k, ' is ', sk_acc_score)\n",
    "    print('\\n' + '-' * 10 + '\\n')"
   ]
  },
  {
   "cell_type": "markdown",
   "id": "4c00dca3",
   "metadata": {},
   "source": [
    "# Splitting Data"
   ]
  },
  {
   "cell_type": "markdown",
   "id": "f80b497a",
   "metadata": {},
   "source": [
    "## Features - Label Split"
   ]
  },
  {
   "cell_type": "code",
   "execution_count": null,
   "id": "1067da5f",
   "metadata": {},
   "outputs": [],
   "source": [
    "X = df.iloc[:, :-1].values\n",
    "y = df.iloc[:, -1].values"
   ]
  },
  {
   "cell_type": "code",
   "execution_count": null,
   "id": "b540f6af",
   "metadata": {},
   "outputs": [],
   "source": [
    "print(X.shape, y.shape)"
   ]
  },
  {
   "cell_type": "markdown",
   "id": "c9199623",
   "metadata": {},
   "source": [
    "### Train - Validation - Test Split"
   ]
  },
  {
   "cell_type": "code",
   "execution_count": null,
   "id": "0763fd4a",
   "metadata": {
    "scrolled": true
   },
   "outputs": [],
   "source": [
    "# 60% 20% 20% split is applied\n",
    "x_train, x_test, y_train, y_test = train_test_split(X, y, test_size=0.4)\n",
    "print(x_train.shape, x_test.shape, y_train.shape, y_test.shape)\n",
    "\n",
    "# x_test, x_val, y_test, y_val = train_test_split(x_test, y_test, test_size=0.5)\n",
    "# print('\\nX Train', x_train.shape, 'Y Train', y_train.shape, '\\nX Test', x_test.shape, 'Y Test', y_test.shape,\n",
    "#       '\\nX Val', x_val.shape, 'Y Val', y_val.shape)"
   ]
  },
  {
   "cell_type": "markdown",
   "id": "01765914",
   "metadata": {},
   "source": [
    "# SciKit-Learn Algorithm"
   ]
  },
  {
   "cell_type": "code",
   "execution_count": null,
   "id": "d51b0b1e",
   "metadata": {},
   "outputs": [],
   "source": [
    "knn_class = KNeighborsClassifier(n_neighbors=3)\n",
    "knn_class.fit(x_train, y_train)\n",
    "y_predict = knn_class.predict(x_test)"
   ]
  },
  {
   "cell_type": "markdown",
   "id": "bd630043",
   "metadata": {},
   "source": [
    "## Training and Predicting"
   ]
  },
  {
   "cell_type": "markdown",
   "id": "014830ea",
   "metadata": {},
   "source": [
    "## Performance"
   ]
  },
  {
   "cell_type": "code",
   "execution_count": null,
   "id": "25bfa58b",
   "metadata": {},
   "outputs": [],
   "source": [
    "sk_acc_score = accuracy_score(y_test, y_predict) * 100\n",
    "sk_acc_score"
   ]
  },
  {
   "cell_type": "code",
   "execution_count": null,
   "id": "4b5eb80a",
   "metadata": {
    "scrolled": false
   },
   "outputs": [],
   "source": [
    "precision_recall_fscore_support(y_test, y_predict)"
   ]
  }
 ],
 "metadata": {
  "kernelspec": {
   "display_name": "Python 3",
   "language": "python",
   "name": "python3"
  },
  "language_info": {
   "codemirror_mode": {
    "name": "ipython",
    "version": 3
   },
   "file_extension": ".py",
   "mimetype": "text/x-python",
   "name": "python",
   "nbconvert_exporter": "python",
   "pygments_lexer": "ipython3",
   "version": "3.9.1"
  }
 },
 "nbformat": 4,
 "nbformat_minor": 5
}
