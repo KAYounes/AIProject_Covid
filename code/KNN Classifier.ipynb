{
 "cells": [
  {
   "cell_type": "markdown",
   "id": "23e1418a",
   "metadata": {},
   "source": [
    "# KNN Classifier"
   ]
  },
  {
   "cell_type": "markdown",
   "id": "6498defa",
   "metadata": {},
   "source": [
    "## Importing and Loading data"
   ]
  },
  {
   "cell_type": "code",
   "execution_count": 39,
   "id": "e05ec934",
   "metadata": {},
   "outputs": [],
   "source": [
    "from sklearn.neighbors import KNeighborsClassifier\n",
    "from sklearn.model_selection import train_test_split\n",
    "from sklearn.metrics import accuracy_score\n",
    "from sklearn.metrics import precision_recall_fscore_support\n",
    "\n",
    "import pandas as pd\n",
    "import numpy as np\n",
    "\n",
    "import time"
   ]
  },
  {
   "cell_type": "code",
   "execution_count": 2,
   "id": "7a93153a",
   "metadata": {},
   "outputs": [
    {
     "data": {
      "text/html": [
       "<div>\n",
       "<style scoped>\n",
       "    .dataframe tbody tr th:only-of-type {\n",
       "        vertical-align: middle;\n",
       "    }\n",
       "\n",
       "    .dataframe tbody tr th {\n",
       "        vertical-align: top;\n",
       "    }\n",
       "\n",
       "    .dataframe thead th {\n",
       "        text-align: right;\n",
       "    }\n",
       "</style>\n",
       "<table border=\"1\" class=\"dataframe\">\n",
       "  <thead>\n",
       "    <tr style=\"text-align: right;\">\n",
       "      <th></th>\n",
       "      <th>location</th>\n",
       "      <th>country</th>\n",
       "      <th>gender</th>\n",
       "      <th>age</th>\n",
       "      <th>vis_wuhan</th>\n",
       "      <th>from_wuhan</th>\n",
       "      <th>symptom1</th>\n",
       "      <th>symptom2</th>\n",
       "      <th>symptom3</th>\n",
       "      <th>symptom4</th>\n",
       "      <th>symptom5</th>\n",
       "      <th>symptom6</th>\n",
       "      <th>diff_sym_hos</th>\n",
       "      <th>result</th>\n",
       "    </tr>\n",
       "  </thead>\n",
       "  <tbody>\n",
       "    <tr>\n",
       "      <th>0</th>\n",
       "      <td>104</td>\n",
       "      <td>8</td>\n",
       "      <td>1</td>\n",
       "      <td>66.0</td>\n",
       "      <td>1</td>\n",
       "      <td>0</td>\n",
       "      <td>14</td>\n",
       "      <td>31</td>\n",
       "      <td>19</td>\n",
       "      <td>12</td>\n",
       "      <td>3</td>\n",
       "      <td>1</td>\n",
       "      <td>8</td>\n",
       "      <td>1</td>\n",
       "    </tr>\n",
       "    <tr>\n",
       "      <th>1</th>\n",
       "      <td>101</td>\n",
       "      <td>8</td>\n",
       "      <td>0</td>\n",
       "      <td>56.0</td>\n",
       "      <td>0</td>\n",
       "      <td>1</td>\n",
       "      <td>14</td>\n",
       "      <td>31</td>\n",
       "      <td>19</td>\n",
       "      <td>12</td>\n",
       "      <td>3</td>\n",
       "      <td>1</td>\n",
       "      <td>0</td>\n",
       "      <td>0</td>\n",
       "    </tr>\n",
       "    <tr>\n",
       "      <th>2</th>\n",
       "      <td>137</td>\n",
       "      <td>8</td>\n",
       "      <td>1</td>\n",
       "      <td>46.0</td>\n",
       "      <td>0</td>\n",
       "      <td>1</td>\n",
       "      <td>14</td>\n",
       "      <td>31</td>\n",
       "      <td>19</td>\n",
       "      <td>12</td>\n",
       "      <td>3</td>\n",
       "      <td>1</td>\n",
       "      <td>13</td>\n",
       "      <td>0</td>\n",
       "    </tr>\n",
       "    <tr>\n",
       "      <th>3</th>\n",
       "      <td>116</td>\n",
       "      <td>8</td>\n",
       "      <td>0</td>\n",
       "      <td>60.0</td>\n",
       "      <td>1</td>\n",
       "      <td>0</td>\n",
       "      <td>14</td>\n",
       "      <td>31</td>\n",
       "      <td>19</td>\n",
       "      <td>12</td>\n",
       "      <td>3</td>\n",
       "      <td>1</td>\n",
       "      <td>0</td>\n",
       "      <td>0</td>\n",
       "    </tr>\n",
       "    <tr>\n",
       "      <th>4</th>\n",
       "      <td>116</td>\n",
       "      <td>8</td>\n",
       "      <td>1</td>\n",
       "      <td>58.0</td>\n",
       "      <td>0</td>\n",
       "      <td>0</td>\n",
       "      <td>14</td>\n",
       "      <td>31</td>\n",
       "      <td>19</td>\n",
       "      <td>12</td>\n",
       "      <td>3</td>\n",
       "      <td>1</td>\n",
       "      <td>0</td>\n",
       "      <td>0</td>\n",
       "    </tr>\n",
       "  </tbody>\n",
       "</table>\n",
       "</div>"
      ],
      "text/plain": [
       "   location  country  gender   age  vis_wuhan  from_wuhan  symptom1  symptom2  \\\n",
       "0       104        8       1  66.0          1           0        14        31   \n",
       "1       101        8       0  56.0          0           1        14        31   \n",
       "2       137        8       1  46.0          0           1        14        31   \n",
       "3       116        8       0  60.0          1           0        14        31   \n",
       "4       116        8       1  58.0          0           0        14        31   \n",
       "\n",
       "   symptom3  symptom4  symptom5  symptom6  diff_sym_hos  result  \n",
       "0        19        12         3         1             8       1  \n",
       "1        19        12         3         1             0       0  \n",
       "2        19        12         3         1            13       0  \n",
       "3        19        12         3         1             0       0  \n",
       "4        19        12         3         1             0       0  "
      ]
     },
     "execution_count": 2,
     "metadata": {},
     "output_type": "execute_result"
    }
   ],
   "source": [
    "df = pd.read_csv(r'\\Users\\KAYEG\\Documents\\ASU\\FALL - 21 - Term 7\\Machine Learning\\Project\\Project\\data.csv', index_col=0)\n",
    "df.head()"
   ]
  },
  {
   "cell_type": "markdown",
   "id": "d9ace333",
   "metadata": {},
   "source": [
    "# Splitting Data"
   ]
  },
  {
   "cell_type": "markdown",
   "id": "d9df093e",
   "metadata": {},
   "source": [
    "## Features - Label Split"
   ]
  },
  {
   "cell_type": "code",
   "execution_count": 3,
   "id": "52e8b121",
   "metadata": {},
   "outputs": [],
   "source": [
    "X = df.iloc[:, :-1].values\n",
    "y = df.iloc[:, -1].values"
   ]
  },
  {
   "cell_type": "code",
   "execution_count": 4,
   "id": "bd7f583b",
   "metadata": {},
   "outputs": [
    {
     "name": "stdout",
     "output_type": "stream",
     "text": [
      "(863, 13) (863,)\n"
     ]
    }
   ],
   "source": [
    "print(X.shape, y.shape)"
   ]
  },
  {
   "cell_type": "markdown",
   "id": "393e7824",
   "metadata": {},
   "source": [
    "### Train - Validation - Test Split"
   ]
  },
  {
   "cell_type": "code",
   "execution_count": 5,
   "id": "f74ccf30",
   "metadata": {
    "scrolled": true
   },
   "outputs": [
    {
     "name": "stdout",
     "output_type": "stream",
     "text": [
      "(517, 13) (346, 13) (517,) (346,)\n",
      "\n",
      "X Train (517, 13) Y Train (517,) \n",
      "X Test (173, 13) Y Test (173,) \n",
      "X Val (173, 13) Y Val (173,)\n"
     ]
    }
   ],
   "source": [
    "# 60% 20% 20% split is applied\n",
    "x_train, x_test, y_train, y_test = train_test_split(X, y, test_size=0.4)\n",
    "print(x_train.shape, x_test.shape, y_train.shape, y_test.shape)\n",
    "\n",
    "x_test, x_val, y_test, y_val = train_test_split(x_test, y_test, test_size=0.5)\n",
    "print('\\nX Train', x_train.shape, 'Y Train', y_train.shape, '\\nX Test', x_test.shape, 'Y Test', y_test.shape,\n",
    "      '\\nX Val', x_val.shape, 'Y Val', y_val.shape)"
   ]
  },
  {
   "cell_type": "code",
   "execution_count": 6,
   "id": "6c631234",
   "metadata": {},
   "outputs": [],
   "source": [
    "knn_class = KNeighborsClassifier(n_neighbors=3)\n",
    "knn_class.fit(x_train, y_train)\n",
    "y_predict = knn_class.predict(x_test)"
   ]
  },
  {
   "cell_type": "code",
   "execution_count": 7,
   "id": "bcf314be",
   "metadata": {},
   "outputs": [
    {
     "data": {
      "text/plain": [
       "92.48554913294798"
      ]
     },
     "execution_count": 7,
     "metadata": {},
     "output_type": "execute_result"
    }
   ],
   "source": [
    "sk_acc_score = accuracy_score(y_test, y_predict) * 100\n",
    "sk_acc_score"
   ]
  },
  {
   "cell_type": "code",
   "execution_count": 8,
   "id": "007db15e",
   "metadata": {
    "scrolled": false
   },
   "outputs": [
    {
     "data": {
      "text/plain": [
       "(array([0.9602649 , 0.68181818]),\n",
       " array([0.95394737, 0.71428571]),\n",
       " array([0.95709571, 0.69767442]),\n",
       " array([152,  21], dtype=int64))"
      ]
     },
     "execution_count": 8,
     "metadata": {},
     "output_type": "execute_result"
    }
   ],
   "source": [
    "precision_recall_fscore_support(y_test, y_predict)"
   ]
  },
  {
   "cell_type": "markdown",
   "id": "59027e62",
   "metadata": {},
   "source": [
    "# Implementing KNN"
   ]
  },
  {
   "cell_type": "markdown",
   "id": "23712438",
   "metadata": {},
   "source": [
    "## Concept\n",
    "\n",
    "- Calculate distance from point to point --> distance between target and point\n",
    "    - target = [x, y, z]\n",
    "    - points = [a, b, c]\n",
    "    \n",
    "    - squared = [(x - a)^2, (y - b)^2, (z - c)^2]\n",
    "    - sum_arr = sum(squared) == (x - a)^2 + (y - b)^2 + (z - c)^2\n",
    "    - distance = sqrt(sum_arr)\n",
    "    \n",
    "    \n",
    "- Repeat with all features --> array of distances\n",
    "\n",
    "\n",
    "- Sort ascendingly --> sorted array of distances\n",
    "\n",
    "\n",
    "- Take first K distances --> array of K distances\n",
    "\n",
    "\n",
    "- Predict based on majority --> prediction "
   ]
  },
  {
   "cell_type": "code",
   "execution_count": 14,
   "id": "198073fc",
   "metadata": {},
   "outputs": [],
   "source": [
    "class KNN_Classifier:\n",
    "    \n",
    "    def __init__(self, k, power):\n",
    "        self.k = k\n",
    "        self.power = power\n",
    "    \n",
    "    \n",
    "    def save_data(self, features, labels):\n",
    "        self.features = np.array(features)\n",
    "        self.labels = np.array(labels)\n",
    "        \n",
    "    \n",
    "    def get_distance_from_point(self, target, point):\n",
    "        squared_difference = np.power(target - point, self.power)\n",
    "        sum_squared_difference = np.sum(squared_difference)\n",
    "        distance = np.sqrt(sum_squared_difference)\n",
    "        \n",
    "        return distance\n",
    "    \n",
    "    \n",
    "    def get_distances(self, target):\n",
    "        target = np.array(target)\n",
    "        distances = []\n",
    "        \n",
    "        for point, label in zip(self.features, self.labels):\n",
    "            distances.append([self.get_distance_from_point(target, point), label])\n",
    "        \n",
    "        return np.array(distances)\n",
    "            \n",
    "    \n",
    "    def majority_vote(self, distances):\n",
    "        k_nearest_labels = distances[distances[:, 0].argsort()][:self.k, -1]\n",
    "        unique_labels, frequency = np.unique(k_nearest_labels, return_counts=True)\n",
    "        max_frequency = np.max(frequency)\n",
    "        mode = []\n",
    "        \n",
    "        for i in range(len(frequency)):\n",
    "            if (frequency[i] == max_frequency):\n",
    "                mode.append(unique_labels[i])\n",
    "\n",
    "        return np.array(mode)\n",
    "\n",
    "    \n",
    "    \n",
    "    def predict(self, targets):\n",
    "        targets = np.array(targets)\n",
    "        predictions = []\n",
    "        \n",
    "        for i, target in enumerate(targets):\n",
    "            distances = self.get_distances(target)\n",
    "            prediction = self.majority_vote(distances)\n",
    "            predictions.append(prediction)\n",
    "        \n",
    "        return np.array(predictions)\n",
    "        \n",
    "        "
   ]
  },
  {
   "cell_type": "code",
   "execution_count": 18,
   "id": "a72f878c",
   "metadata": {},
   "outputs": [
    {
     "data": {
      "text/plain": [
       "91.90751445086705"
      ]
     },
     "execution_count": 18,
     "metadata": {},
     "output_type": "execute_result"
    }
   ],
   "source": [
    "knn = KNN_Classifier(3, 2)\n",
    "knn.save_data(x_train, y_train)\n",
    "# print(x_train[170:175], '\\n', y_train[170:175])\n",
    "# print(knn.features, '\\n', knn.labels)\n",
    "# print(x_test[:5])\n",
    "my_predictions = knn.predict(x_test)\n",
    "my_acc_score = accuracy_score(y_test, my_predictions) * 100\n",
    "my_acc_score"
   ]
  },
  {
   "cell_type": "code",
   "execution_count": 16,
   "id": "869b2f67",
   "metadata": {},
   "outputs": [
    {
     "data": {
      "text/plain": [
       "0.5780346820809257"
      ]
     },
     "execution_count": 16,
     "metadata": {},
     "output_type": "execute_result"
    }
   ],
   "source": [
    "sk_acc_score - my_acc_score"
   ]
  },
  {
   "cell_type": "code",
   "execution_count": 52,
   "id": "adb838b0",
   "metadata": {},
   "outputs": [
    {
     "name": "stdout",
     "output_type": "stream",
     "text": [
      "Execution time 0.3508121967315674\n"
     ]
    }
   ],
   "source": [
    "acc = []\n",
    "maxx = 0\n",
    "max_k = -1\n",
    "start = time.time()\n",
    "for k in range(1, 100, 2):\n",
    "    knn_class = KNeighborsClassifier(n_neighbors=k, algorithm='brute')\n",
    "    knn_class.fit(x_train, y_train)\n",
    "    y_predict = knn_class.predict(x_test)\n",
    "    \n",
    "    sk_acc_score = accuracy_score(y_test, y_predict) * 100\n",
    "    acc.append(sk_acc_score)\n",
    "    if(sk_acc_score > maxx):\n",
    "        maxx = sk_acc_score\n",
    "        max_k = k\n",
    "end = time.time()\n",
    "print(f\"Execution time {end - start}\")"
   ]
  },
  {
   "cell_type": "code",
   "execution_count": 47,
   "id": "c7eb058b",
   "metadata": {
    "scrolled": true
   },
   "outputs": [
    {
     "data": {
      "text/plain": [
       "9"
      ]
     },
     "execution_count": 47,
     "metadata": {},
     "output_type": "execute_result"
    }
   ],
   "source": [
    "max_k"
   ]
  },
  {
   "cell_type": "code",
   "execution_count": 48,
   "id": "948445e5",
   "metadata": {
    "scrolled": true
   },
   "outputs": [
    {
     "data": {
      "text/plain": [
       "[91.90751445086705,\n",
       " 92.48554913294798,\n",
       " 92.48554913294798,\n",
       " 92.48554913294798,\n",
       " 93.64161849710982,\n",
       " 92.48554913294798,\n",
       " 92.48554913294798,\n",
       " 93.64161849710982,\n",
       " 93.0635838150289,\n",
       " 93.0635838150289,\n",
       " 93.64161849710982,\n",
       " 93.0635838150289,\n",
       " 93.0635838150289,\n",
       " 92.48554913294798,\n",
       " 92.48554913294798,\n",
       " 92.48554913294798,\n",
       " 92.48554913294798,\n",
       " 91.90751445086705,\n",
       " 92.48554913294798,\n",
       " 92.48554913294798,\n",
       " 90.7514450867052,\n",
       " 89.59537572254335,\n",
       " 89.01734104046243,\n",
       " 87.86127167630057,\n",
       " 87.86127167630057,\n",
       " 87.86127167630057,\n",
       " 87.86127167630057,\n",
       " 87.86127167630057,\n",
       " 87.86127167630057,\n",
       " 87.86127167630057,\n",
       " 87.86127167630057,\n",
       " 87.86127167630057,\n",
       " 87.86127167630057,\n",
       " 87.86127167630057,\n",
       " 87.86127167630057,\n",
       " 87.86127167630057,\n",
       " 87.86127167630057,\n",
       " 87.86127167630057,\n",
       " 87.86127167630057,\n",
       " 87.86127167630057,\n",
       " 87.86127167630057,\n",
       " 87.86127167630057,\n",
       " 87.86127167630057,\n",
       " 87.86127167630057,\n",
       " 87.86127167630057,\n",
       " 87.86127167630057,\n",
       " 87.86127167630057,\n",
       " 87.86127167630057,\n",
       " 87.86127167630057,\n",
       " 87.86127167630057]"
      ]
     },
     "execution_count": 48,
     "metadata": {},
     "output_type": "execute_result"
    }
   ],
   "source": [
    "acc"
   ]
  },
  {
   "cell_type": "code",
   "execution_count": 51,
   "id": "4035c9a0",
   "metadata": {},
   "outputs": [
    {
     "name": "stdout",
     "output_type": "stream",
     "text": [
      "Execution time 41.98218035697937\n"
     ]
    }
   ],
   "source": [
    "acc = []\n",
    "maxx = 0\n",
    "max_k = -1\n",
    "\n",
    "start = time.time()\n",
    "\n",
    "for k in range(1, 100, 2):\n",
    "    knn = KNN_Classifier(k, 2)\n",
    "    knn.save_data(x_train, y_train)\n",
    "    my_predictions = knn.predict(x_test)\n",
    "    my_acc_score = accuracy_score(y_test, my_predictions) * 100\n",
    "    acc.append(my_acc_score)\n",
    "    if(my_acc_score > maxx):\n",
    "        maxx = my_acc_score\n",
    "        max_k = k\n",
    "\n",
    "end = time.time()\n",
    "print(f\"Execution time {end - start}\")"
   ]
  },
  {
   "cell_type": "code",
   "execution_count": 41,
   "id": "70fec65a",
   "metadata": {
    "scrolled": true
   },
   "outputs": [
    {
     "data": {
      "text/plain": [
       "9"
      ]
     },
     "execution_count": 41,
     "metadata": {},
     "output_type": "execute_result"
    }
   ],
   "source": [
    "max_k"
   ]
  },
  {
   "cell_type": "code",
   "execution_count": 42,
   "id": "0ec7f591",
   "metadata": {},
   "outputs": [
    {
     "data": {
      "text/plain": [
       "[91.90751445086705,\n",
       " 91.90751445086705,\n",
       " 92.48554913294798,\n",
       " 92.48554913294798,\n",
       " 93.64161849710982,\n",
       " 92.48554913294798,\n",
       " 92.48554913294798,\n",
       " 93.64161849710982,\n",
       " 93.0635838150289,\n",
       " 93.0635838150289,\n",
       " 93.64161849710982,\n",
       " 93.0635838150289,\n",
       " 93.0635838150289,\n",
       " 92.48554913294798,\n",
       " 92.48554913294798,\n",
       " 92.48554913294798,\n",
       " 92.48554913294798,\n",
       " 91.90751445086705,\n",
       " 92.48554913294798,\n",
       " 92.48554913294798,\n",
       " 91.32947976878613,\n",
       " 89.59537572254335,\n",
       " 89.01734104046243,\n",
       " 87.86127167630057,\n",
       " 87.86127167630057,\n",
       " 87.86127167630057,\n",
       " 87.86127167630057,\n",
       " 87.86127167630057,\n",
       " 87.86127167630057,\n",
       " 87.86127167630057,\n",
       " 87.86127167630057,\n",
       " 87.86127167630057,\n",
       " 87.86127167630057,\n",
       " 87.86127167630057,\n",
       " 87.86127167630057,\n",
       " 87.86127167630057,\n",
       " 87.86127167630057,\n",
       " 87.86127167630057,\n",
       " 87.86127167630057,\n",
       " 87.86127167630057,\n",
       " 87.86127167630057,\n",
       " 87.86127167630057,\n",
       " 87.86127167630057,\n",
       " 87.86127167630057,\n",
       " 87.86127167630057,\n",
       " 87.86127167630057,\n",
       " 87.86127167630057,\n",
       " 87.86127167630057,\n",
       " 87.86127167630057,\n",
       " 87.86127167630057]"
      ]
     },
     "execution_count": 42,
     "metadata": {},
     "output_type": "execute_result"
    }
   ],
   "source": [
    "acc"
   ]
  }
 ],
 "metadata": {
  "kernelspec": {
   "display_name": "Python 3",
   "language": "python",
   "name": "python3"
  },
  "language_info": {
   "codemirror_mode": {
    "name": "ipython",
    "version": 3
   },
   "file_extension": ".py",
   "mimetype": "text/x-python",
   "name": "python",
   "nbconvert_exporter": "python",
   "pygments_lexer": "ipython3",
   "version": "3.9.1"
  }
 },
 "nbformat": 4,
 "nbformat_minor": 5
}
